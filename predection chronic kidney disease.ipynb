{
 "cells": [
  {
   "cell_type": "code",
   "execution_count": 4,
   "id": "8810f069",
   "metadata": {},
   "outputs": [
    {
     "ename": "SyntaxError",
     "evalue": "invalid syntax (2206347059.py, line 1)",
     "output_type": "error",
     "traceback": [
      "\u001b[1;36m  Cell \u001b[1;32mIn[4], line 1\u001b[1;36m\u001b[0m\n\u001b[1;33m    1 import pandas as pd #used for data manipulation\u001b[0m\n\u001b[1;37m      ^\u001b[0m\n\u001b[1;31mSyntaxError\u001b[0m\u001b[1;31m:\u001b[0m invalid syntax\n"
     ]
    }
   ],
   "source": [
    "1 import pandas as pd #used for data manipulation\n",
    "2 import numpy as np #used for numerical analysis\n",
    "3 from collections import Counter as c # return counts of number of classess\n",
    "4 import matplotlib.pyplot as plt #used for data Visualization\n",
    "5 import seaborn as sns #data visualization library\n",
    "6 import missingno as msno #finding missing values\n",
    "7 from sklearn.metrics import accuracy_score, confusion_matrix#model performance\n",
    "8 from sklearn.model_selection import train_test_split #splits data in random train and test array\n",
    "9 from sklearn.preprocessing import LabelEncoder #encoding the levels of categorical features\n",
    "10 from sklearn.linear_model import Logistic Regression #Classification ML algorithm\n",
    "11 import pickle #Python object "
   ]
  },
  {
   "cell_type": "code",
   "execution_count": null,
   "id": "484c27ad",
   "metadata": {},
   "outputs": [],
   "source": []
  }
 ],
 "metadata": {
  "kernelspec": {
   "display_name": "Python 3 (ipykernel)",
   "language": "python",
   "name": "python3"
  },
  "language_info": {
   "codemirror_mode": {
    "name": "ipython",
    "version": 3
   },
   "file_extension": ".py",
   "mimetype": "text/x-python",
   "name": "python",
   "nbconvert_exporter": "python",
   "pygments_lexer": "ipython3",
   "version": "3.10.9"
  }
 },
 "nbformat": 4,
 "nbformat_minor": 5
}
